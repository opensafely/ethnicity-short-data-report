{
 "cells": [
  {
   "cell_type": "markdown",
   "metadata": {},
   "source": [
    "# Measuring <font color='red'>Phenotype</font> in OpenSAFELY-TPP\n",
    "This short report describes how <font color='red'>phenotype</font> can be identified in the OpenSAFELY-TPP database, and the strengths and weaknesses of the methods. This is a living document that will be updated to reflect changes to the OpenSAFELY-TPP database and the patient records within.\n",
    "\n",
    "## OpenSAFELY\n",
    "OpenSAFELY is an analytics platform for conducting analyses on Electronic Health Records inside the secure environment where the records are held. This has multiple benefits: \n",
    "\n",
    "* We don't transport large volumes of potentially disclosive pseudonymised patient data outside of the secure environments for analysis\n",
    "* Analyses can run in near real-time as records are ready for analysis as soon as they appear in the secure environment\n",
    "* All infrastructure and analysis code is stored in GitHub repositories, which are open for security review, scientific review, and re-use\n",
    "\n",
    "A key feature of OpenSAFELY is the use of study definitions, which are formal specifications of the datasets to be generated from the OpenSAFELY database. This takes care of much of the complex EHR data wrangling required to create a dataset in an analysis-ready format. It also creates a library of standardised and validated variable definitions that can be deployed consistently across multiple projects. \n",
    "\n",
    "The purpose of this report is to describe all such variables that relate to <font color='red'>phenotype</font>, their relative strengths and weaknesses, in what scenarios they are best deployed. It will also describe potential future definitions that have not yet been implemented.\n",
    "\n",
    "## Available Records\n",
    "OpenSAFELY-TPP runs inside TPP’s data centre which contains the primary care records for all patients registered at practices using TPP’s SystmOne Clinical Information System. This data centre also imports external datasets from other sources, including A&E attendances and hospital admissions from NHS Digital’s Secondary Use Service, and death registrations from the ONS. More information on available data sources can be found within the OpenSAFELY documentation. "
   ]
  },
  {
   "cell_type": "code",
   "execution_count": null,
   "metadata": {},
   "outputs": [],
   "source": [
    "from IPython.display import display, Markdown\n",
    "from report_functions import *"
   ]
  },
  {
   "cell_type": "code",
   "execution_count": null,
   "metadata": {},
   "outputs": [],
   "source": [
    "### CONFIGURE OPTIONS HERE ###\n",
    "\n",
    "# Import file\n",
    "input_path = '../output/data/input_all.feather'\n",
    "\n",
    "# Definitions\n",
    "definitions = ['derived_bmi']\n",
    "\n",
    "# Dates\n",
    "date_min = '2019-01-01'\n",
    "date_max = '2019-12-31'\n",
    "time_delta = 'M'\n",
    "\n",
    "# Min/max range\n",
    "min_range = 4\n",
    "max_range = 200\n",
    "\n",
    "# Null value – 0 or NA\n",
    "null = 0\n",
    "\n",
    "# Covariates\n",
    "demographic_covariates = ['age_band', 'sex', 'ethnicity', 'region', 'imd']\n",
    "clinical_covariates = ['dementia', 'diabetes', 'hypertension', 'learning_disability']"
   ]
  },
  {
   "cell_type": "code",
   "execution_count": null,
   "metadata": {},
   "outputs": [],
   "source": [
    "# Preprocess data with configurations above\n",
    "num_definitions = len(definitions)\n",
    "df_occ = preprocess_data(input_path, definitions, demographic_covariates, clinical_covariates, date_min, date_max, time_delta, num_definitions, null)"
   ]
  },
  {
   "cell_type": "markdown",
   "metadata": {},
   "source": [
    "_______\n",
    "## Descriptive Statistics\n",
    "\n",
    "### Occurrence\n",
    "\n",
    "#### Unique Patients by Definition"
   ]
  },
  {
   "cell_type": "code",
   "execution_count": null,
   "metadata": {},
   "outputs": [],
   "source": [
    "count_unique(df_occ, definitions, time_delta, 'patient')"
   ]
  },
  {
   "cell_type": "code",
   "execution_count": null,
   "metadata": {},
   "outputs": [],
   "source": [
    "for group in demographic_covariates:\n",
    "    count_unique(df_occ, definitions, time_delta, 'patient', group)"
   ]
  },
  {
   "cell_type": "code",
   "execution_count": null,
   "metadata": {},
   "outputs": [],
   "source": [
    "for group in clinical_covariates:\n",
    "    count_unique(df_occ, definitions, time_delta, 'patient', group)"
   ]
  },
  {
   "cell_type": "markdown",
   "metadata": {},
   "source": [
    "#### Unique Patients Over Time"
   ]
  },
  {
   "cell_type": "code",
   "execution_count": null,
   "metadata": {},
   "outputs": [],
   "source": [
    "report_over_time(df_occ, definitions, 'patient')"
   ]
  },
  {
   "cell_type": "code",
   "execution_count": null,
   "metadata": {},
   "outputs": [],
   "source": [
    "for group in demographic_covariates:\n",
    "    report_over_time(df_occ, definitions, 'patient', group)"
   ]
  },
  {
   "cell_type": "code",
   "execution_count": null,
   "metadata": {},
   "outputs": [],
   "source": [
    "for group in clinical_covariates:\n",
    "    report_over_time(df_occ, definitions, 'patient', group)"
   ]
  },
  {
   "cell_type": "markdown",
   "metadata": {},
   "source": [
    "#### Unique Measurements by Definition"
   ]
  },
  {
   "cell_type": "code",
   "execution_count": null,
   "metadata": {},
   "outputs": [],
   "source": [
    "count_unique(df_occ, definitions, time_delta, 'measurement')"
   ]
  },
  {
   "cell_type": "code",
   "execution_count": null,
   "metadata": {},
   "outputs": [],
   "source": [
    "for group in demographic_covariates:\n",
    "    count_unique(df_occ, definitions, time_delta, 'measurement', group)"
   ]
  },
  {
   "cell_type": "code",
   "execution_count": null,
   "metadata": {},
   "outputs": [],
   "source": [
    "for group in clinical_covariates:\n",
    "    count_unique(df_occ, definitions, time_delta, 'measurement', group)"
   ]
  },
  {
   "cell_type": "markdown",
   "metadata": {},
   "source": [
    "#### Unique Measurements Over Time"
   ]
  },
  {
   "cell_type": "code",
   "execution_count": null,
   "metadata": {},
   "outputs": [],
   "source": [
    "report_over_time(df_occ, definitions, 'measurement')"
   ]
  },
  {
   "cell_type": "code",
   "execution_count": null,
   "metadata": {},
   "outputs": [],
   "source": [
    "for group in demographic_covariates:\n",
    "    report_over_time(df_occ, definitions, 'measurement', group)"
   ]
  },
  {
   "cell_type": "code",
   "execution_count": null,
   "metadata": {},
   "outputs": [],
   "source": [
    "for group in clinical_covariates:\n",
    "    report_over_time(df_occ, definitions, 'measurement', group)"
   ]
  },
  {
   "cell_type": "markdown",
   "metadata": {},
   "source": [
    "#### Frequency of Update"
   ]
  },
  {
   "cell_type": "code",
   "execution_count": null,
   "metadata": {},
   "outputs": [],
   "source": [
    "report_update_frequency(df_occ, definitions, time_delta, num_definitions)"
   ]
  },
  {
   "cell_type": "code",
   "execution_count": null,
   "metadata": {},
   "outputs": [],
   "source": [
    "for group in demographic_covariates:\n",
    "    report_update_frequency(df_occ, definitions, time_delta, num_definitions, group)"
   ]
  },
  {
   "cell_type": "code",
   "execution_count": null,
   "metadata": {},
   "outputs": [],
   "source": [
    "for group in clinical_covariates:\n",
    "    report_update_frequency(df_occ, definitions, time_delta, num_definitions, group)"
   ]
  },
  {
   "cell_type": "markdown",
   "metadata": {},
   "source": [
    "### Value"
   ]
  },
  {
   "cell_type": "markdown",
   "metadata": {},
   "source": [
    "#### Values Out of Range"
   ]
  },
  {
   "cell_type": "code",
   "execution_count": null,
   "metadata": {},
   "outputs": [],
   "source": [
    "report_out_of_range(df_occ, definitions, min_range, max_range, num_definitions, null)"
   ]
  },
  {
   "cell_type": "code",
   "execution_count": null,
   "metadata": {},
   "outputs": [],
   "source": [
    "for group in demographic_covariates:\n",
    "    report_out_of_range(df_occ, definitions, min_range, max_range, num_definitions, null, group)"
   ]
  },
  {
   "cell_type": "code",
   "execution_count": null,
   "metadata": {},
   "outputs": [],
   "source": [
    "for group in clinical_covariates:\n",
    "    report_out_of_range(df_occ, definitions, min_range, max_range, num_definitions, null, group)"
   ]
  },
  {
   "cell_type": "markdown",
   "metadata": {},
   "source": [
    "#### Distributions"
   ]
  },
  {
   "cell_type": "code",
   "execution_count": null,
   "metadata": {},
   "outputs": [],
   "source": [
    "report_distribution(df_occ, definitions, num_definitions)"
   ]
  },
  {
   "cell_type": "code",
   "execution_count": null,
   "metadata": {},
   "outputs": [],
   "source": [
    "for group in demographic_covariates:\n",
    "    report_distribution(df_occ, definitions, num_definitions, group)"
   ]
  },
  {
   "cell_type": "code",
   "execution_count": null,
   "metadata": {},
   "outputs": [],
   "source": [
    "for group in clinical_covariates:\n",
    "    report_distribution(df_occ, definitions, num_definitions, group)"
   ]
  },
  {
   "cell_type": "markdown",
   "metadata": {},
   "source": [
    "#### Measures Over Time"
   ]
  },
  {
   "cell_type": "code",
   "execution_count": null,
   "metadata": {},
   "outputs": [],
   "source": [
    "measure_over_time(df_occ, definitions)"
   ]
  },
  {
   "cell_type": "code",
   "execution_count": null,
   "metadata": {},
   "outputs": [],
   "source": [
    "for group in demographic_covariates:\n",
    "    measure_over_time(df_occ, definitions, group)"
   ]
  },
  {
   "cell_type": "code",
   "execution_count": null,
   "metadata": {},
   "outputs": [],
   "source": [
    "for group in clinical_covariates:\n",
    "    measure_over_time(df_occ, definitions, group)"
   ]
  },
  {
   "cell_type": "code",
   "execution_count": null,
   "metadata": {},
   "outputs": [],
   "source": [
    "# Comparison only runs if more than 1 definition provided\n",
    "if num_definitions > 1: \n",
    "    display(Markdown(\"\"\"#### Comparison Across Definitions\n",
    "    \"\"\"))\n",
    "    \n",
    "    compare_value(df_occ, definitions)\n",
    "    \n",
    "    for group in demographic_covariates:\n",
    "        compare_value(df_occ, definitions, group)\n",
    "    \n",
    "    for group in clinical_covariates:\n",
    "        compare_value(df_occ, definitions, group)"
   ]
  },
  {
   "cell_type": "markdown",
   "metadata": {},
   "source": [
    "## Discussion\n",
    "\n",
    "<font color='red'>To fill.</font>\n",
    "\n",
    "The purpose of this live report is to bring a systematic approach to creating, documenting, cross-checking, and sharing variables to improve analyses in OpenSAFELY-TPP. If you have improvements or edits to this report, please contact <font color='red'>owner</font>."
   ]
  },
  {
   "cell_type": "code",
   "execution_count": null,
   "metadata": {},
   "outputs": [],
   "source": []
  }
 ],
 "metadata": {
  "kernelspec": {
   "display_name": "Python 3",
   "language": "python",
   "name": "python3"
  },
  "language_info": {
   "codemirror_mode": {
    "name": "ipython",
    "version": 3
   },
   "file_extension": ".py",
   "mimetype": "text/x-python",
   "name": "python",
   "nbconvert_exporter": "python",
   "pygments_lexer": "ipython3",
   "version": "3.8.5"
  }
 },
 "nbformat": 4,
 "nbformat_minor": 4
}
